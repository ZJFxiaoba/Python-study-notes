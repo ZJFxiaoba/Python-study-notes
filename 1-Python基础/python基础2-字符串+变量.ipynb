{
 "cells": [
  {
   "cell_type": "markdown",
   "metadata": {},
   "source": [
    "# 字符串\n",
    " - 转义字符\n",
    " - 格式化\n",
    " - 内建函数\n",
    " \n",
    " ## 转义字符\n",
    "  - 用一个特殊的方法表示出一系列不方便写出的内容，比如回车键，换行键，退格键\n",
    "  - 借助反斜杠字符，一旦字符串中出现反斜杠，则反斜杠后面一个或几个字符表示已经不是原来的意思了，进行了转义\n",
    "  - 在字符串中，一旦出现反斜杠就要加倍小心，可能有转义字符出现\n",
    "  - 不同系统对回车换行有不同的表示\n",
    "      - Windows： \\n\n",
    "      - Linux： \\r\\n"
   ]
  },
  {
   "cell_type": "code",
   "execution_count": 1,
   "metadata": {},
   "outputs": [
    {
     "name": "stdout",
     "output_type": "stream",
     "text": [
      "i love zhaoweixin\n"
     ]
    }
   ],
   "source": [
    "s=\"i love zhaoweixin\"\n",
    "print(s)"
   ]
  },
  {
   "cell_type": "code",
   "execution_count": 8,
   "metadata": {},
   "outputs": [
    {
     "name": "stdout",
     "output_type": "stream",
     "text": [
      "Let's go\n",
      "Let's go\n",
      "c:\\user\n",
      "i love \r\n",
      " zhaoweixin\n"
     ]
    }
   ],
   "source": [
    "# 如果想表示出Let's go来\n",
    "# 1.可以使用嵌引号，即外层使用双引号\n",
    "# 2.转义字符\n",
    "s=\"Let's go\"\n",
    "print(s)\n",
    "\n",
    "#\\'=='\n",
    "ss='Let\\'s go'\n",
    "print(ss)\n",
    "\n",
    "#sss=\"c:\\user\"\n",
    "#print(sss)\n",
    "\n",
    "#\\\\==\\\n",
    "sss=\"c:\\\\user\"\n",
    "print(sss)\n",
    "\n",
    "#回车换行\n",
    "s1=\"i love \\r\\n zhaoweixin\"\n",
    "print(s1)\n"
   ]
  },
  {
   "cell_type": "markdown",
   "metadata": {},
   "source": [
    "## 字符串格式化\n",
    " - 把字符串按照一定格式打印或者填充\n",
    " - 格式化有两种方法\n",
    "   - 利用百分号(%)\n",
    "   - 利用format函数"
   ]
  },
  {
   "cell_type": "code",
   "execution_count": null,
   "metadata": {
    "collapsed": true
   },
   "outputs": [],
   "source": [
    "s = \"xxx 您好， 我们图灵学院开课了，免费的Python呀，不学白不学，学了也白学\""
   ]
  },
  {
   "cell_type": "markdown",
   "metadata": {},
   "source": [
    "### 利用百分号格式化\n",
    "- 在字符串中，利用%表示一个特殊的含义，表示对字符进行格式化\n",
    "- %的：此处应该放入一个整数\n",
    "- %s：表示此处应该放入一个字符串"
   ]
  },
  {
   "cell_type": "code",
   "execution_count": 9,
   "metadata": {},
   "outputs": [
    {
     "name": "stdout",
     "output_type": "stream",
     "text": [
      "I love %s\n"
     ]
    }
   ],
   "source": [
    "s = \"I love %s\"\n",
    "# 下面打印，直接把%s作为字符串的一个内容打印出来\n",
    "print(s)"
   ]
  },
  {
   "cell_type": "code",
   "execution_count": 10,
   "metadata": {},
   "outputs": [
    {
     "name": "stdout",
     "output_type": "stream",
     "text": [
      "I love zhaoweixin\n"
     ]
    }
   ],
   "source": [
    "print(\"I love %s\"%\"zhaoweixin\")"
   ]
  },
  {
   "cell_type": "code",
   "execution_count": 11,
   "metadata": {},
   "outputs": [
    {
     "name": "stdout",
     "output_type": "stream",
     "text": [
      "I love zhaoweixin\n"
     ]
    }
   ],
   "source": [
    "print(s%\"zhaoweixin\")"
   ]
  },
  {
   "cell_type": "code",
   "execution_count": 13,
   "metadata": {},
   "outputs": [
    {
     "name": "stdout",
     "output_type": "stream",
     "text": [
      "I am %d years old\n",
      "I am 18 years old\n"
     ]
    }
   ],
   "source": [
    "s = \"I am %d years old\"\n",
    "\n",
    "print(s)\n",
    "print(s%18)"
   ]
  },
  {
   "cell_type": "code",
   "execution_count": 18,
   "metadata": {},
   "outputs": [
    {
     "name": "stdout",
     "output_type": "stream",
     "text": [
      "I am %s,i am %d years old\n",
      "I am zhangjinfa,i am 22 years old\n"
     ]
    }
   ],
   "source": [
    "s = \"I am %s,i am %d years old\"\n",
    "print(s)\n",
    "# 注意以下表达的出错原因\n",
    "# 如果字符串中有占位符，则有几个占位符就必须用几个实际内容代替，或者一个也不要\n",
    "#print(s%)\n",
    "\n",
    "# 如果出现多个占位符，则相应内容需要用括号括起来\n",
    "print(s%(\"zhangjinfa\",22))"
   ]
  },
  {
   "cell_type": "markdown",
   "metadata": {},
   "source": [
    "### format函数格式化字符串\n",
    " - 直接用format函数进行格式化\n",
    " - 推荐使用这种方法\n",
    " - 在使用上，以{}和： 代替%，后面用format带参数完成"
   ]
  },
  {
   "cell_type": "code",
   "execution_count": 23,
   "metadata": {},
   "outputs": [
    {
     "name": "stdout",
     "output_type": "stream",
     "text": [
      "I love zhaoweixin\n",
      "Yes, I am 22 years old,I love zhaoweixin,i am 22 years old\n"
     ]
    }
   ],
   "source": [
    "s = \"I love {}\".format(\"zhaoweixin\")\n",
    "print(s)\n",
    "\n",
    "ss= \"Yes, I am {1} years old,I love {0},i am {1} years old\".format(\"zhaoweixin\",22)\n",
    "print(ss)\n"
   ]
  },
  {
   "cell_type": "markdown",
   "metadata": {},
   "source": [
    "## None\n",
    " - 表示什么都没有\n",
    " - 如果函数没有返回值，可以返回 None\n",
    " - 用来占位置\n",
    " - 用来解除变量绑定"
   ]
  },
  {
   "cell_type": "markdown",
   "metadata": {},
   "source": [
    "# 表达式\n",
    " - 由一个或几个数字或者变量和运算符组合成的一行代码\n",
    " - 通常会返回一个结果\n",
    "# 运算符\n",
    "- 由一个以上的值经过变化得到新值的过程就叫运算\n",
    "- 用于运算的符号叫运算符\n",
    "- 运算符分类：\n",
    "  - 算术运算符\n",
    "  - 比较或者关系运算符\n",
    "  - 赋值运算符\n",
    "  - 逻辑运算符\n",
    "  - 位运算\n",
    "  - 成员运算符\n",
    "  - 身份运算符\n",
    "  "
   ]
  },
  {
   "cell_type": "markdown",
   "metadata": {},
   "source": [
    "## 算术运算符\n",
    " - 进行算数运算的符号（+，-，*，/）\n",
    "    - 除号在pyton2和python不一样\n",
    " - 取余（%），取商（//），幂运算（**）\n",
    " - Python中没有自增自减运算符"
   ]
  },
  {
   "cell_type": "code",
   "execution_count": 29,
   "metadata": {},
   "outputs": [
    {
     "name": "stdout",
     "output_type": "stream",
     "text": [
      "10\n",
      "2491584\n",
      "2.25\n",
      "1\n",
      "2\n",
      "6561\n"
     ]
    }
   ],
   "source": [
    "a=9+3-2\n",
    "print(a)\n",
    "\n",
    "b=456*5464\n",
    "print(b)\n",
    "\n",
    "c=9/4\n",
    "print(c)\n",
    "\n",
    "d=9%4\n",
    "print(d)\n",
    "\n",
    "e=9//4\n",
    "print(e)\n",
    "\n",
    "f = 9**4\n",
    "print(f)\n",
    "\n"
   ]
  },
  {
   "cell_type": "markdown",
   "metadata": {},
   "source": [
    "## 比较运算符\n",
    " - 对两个变量或者值进行比较的运算符\n",
    " - 比较的结果是布尔值，即True/False"
   ]
  },
  {
   "cell_type": "code",
   "execution_count": 31,
   "metadata": {},
   "outputs": [
    {
     "name": "stdout",
     "output_type": "stream",
     "text": [
      "False\n",
      "True\n"
     ]
    }
   ],
   "source": [
    "# ==，等于号\n",
    "a=3**4\n",
    "# 下面语句的执行顺序是\n",
    "# 1. 计算a==80\n",
    "# 2. 把结果放入b中\n",
    "b = a == 80\n",
    "print(b)\n",
    "\n",
    "\n",
    "# != 不等于\n",
    "print(9 != 8)\n",
    "\n",
    "# > 大于\n",
    "# < 小于\n",
    "# >= 大于等于\n",
    "# <= 小于等于"
   ]
  },
  {
   "cell_type": "markdown",
   "metadata": {},
   "source": [
    "## 赋值运算符"
   ]
  },
  {
   "cell_type": "code",
   "execution_count": 32,
   "metadata": {},
   "outputs": [
    {
     "name": "stdout",
     "output_type": "stream",
     "text": [
      "17\n"
     ]
    }
   ],
   "source": [
    "# =，赋值\n",
    "a=0\n",
    "c=a=4\n",
    "\n",
    "# +=,是缩写\n",
    "a=10\n",
    "a += 7#a=a+7\n",
    "print(a)"
   ]
  },
  {
   "cell_type": "markdown",
   "metadata": {},
   "source": [
    "## 逻辑运算符\n",
    "- 对布尔值进行计算的符号\n",
    "- and 逻辑与\n",
    "- or 逻辑或\n",
    "- not 逻辑非\n",
    "- Python中逻辑运算没有异或运算\n",
    "- 运算规则：\n",
    "  - and看做乘法，or看做加法\n",
    "  - True看做1，False看做0\n",
    "  - 则逻辑运算就能转换成整数数学运算\n",
    "  - 最后结果0为False，否则为True\n",
    "- 逻辑运算的短路问题\n",
    "  - 逻辑运算式，按照运算顺序计算，一旦能够确定整个式子未来的值，则不在进行计算，直接返回值"
   ]
  },
  {
   "cell_type": "code",
   "execution_count": 34,
   "metadata": {},
   "outputs": [
    {
     "name": "stdout",
     "output_type": "stream",
     "text": [
      "True\n",
      "True\n"
     ]
    }
   ],
   "source": [
    "#逻辑运算案例\n",
    "a = True\n",
    "b = False\n",
    "c = True\n",
    "\n",
    "d=a and b or c #d=1*0+1\n",
    "print(d)\n",
    "\n",
    "d=a or b and a\n",
    "print(d)"
   ]
  },
  {
   "cell_type": "code",
   "execution_count": 35,
   "metadata": {},
   "outputs": [
    {
     "name": "stdout",
     "output_type": "stream",
     "text": [
      "True\n",
      "9\n",
      "True\n"
     ]
    }
   ],
   "source": [
    "# 逻辑运算的短路案例\n",
    "\n",
    "\n",
    "# 下面的逻辑表达式，a的值一定是True，则运行到or的时候，整个表达式不在计算\n",
    "a = True or xxxxxxxxx\n",
    "print(a)\n",
    "# 下面表达式，如果xxx中包含赋值表达式，则结果很难预测\n",
    "# 代码示例（伪代码）\n",
    "b=9\n",
    "a = True or b and 6\n",
    "print(b)\n",
    "print(a)"
   ]
  },
  {
   "cell_type": "code",
   "execution_count": null,
   "metadata": {
    "collapsed": true
   },
   "outputs": [],
   "source": []
  }
 ],
 "metadata": {
  "kernelspec": {
   "display_name": "Python 3",
   "language": "python",
   "name": "python3"
  },
  "language_info": {
   "codemirror_mode": {
    "name": "ipython",
    "version": 3
   },
   "file_extension": ".py",
   "mimetype": "text/x-python",
   "name": "python",
   "nbconvert_exporter": "python",
   "pygments_lexer": "ipython3",
   "version": "3.6.3"
  }
 },
 "nbformat": 4,
 "nbformat_minor": 2
}
